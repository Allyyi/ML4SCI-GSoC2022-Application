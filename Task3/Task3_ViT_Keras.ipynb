{
 "cells": [
  {
   "cell_type": "markdown",
   "id": "b0edbdd2",
   "metadata": {
    "papermill": {
     "duration": 0.025571,
     "end_time": "2022-03-25T13:23:33.459498",
     "exception": false,
     "start_time": "2022-03-25T13:23:33.433927",
     "status": "completed"
    },
    "tags": []
   },
   "source": [
    "# Task3: Vision Transformers for End-to-End Particle Identification with the CMS Experiment\n",
    "* Datasets:Same as in Task 1\n",
    "\n",
    "* Description: \n",
    "    * Train a Transformer model of your choice on the dataset below to achieve the performance closest to your CNN model’s performance in Task 1. \n",
    "\n",
    "    * Discuss the resulting performance of the 2 chosen architectures. \n"
   ]
  },
  {
   "cell_type": "markdown",
   "id": "a0d26cb9",
   "metadata": {
    "_cell_guid": "33044870-86aa-44ff-9df7-610534b3ec6e",
    "_uuid": "e75344c7-8e65-4684-921d-8c676ea735d4",
    "id": "Qu0ZZhiMrH4Z",
    "papermill": {
     "duration": 0.029613,
     "end_time": "2022-03-25T13:23:33.516588",
     "exception": false,
     "start_time": "2022-03-25T13:23:33.486975",
     "status": "completed"
    },
    "tags": []
   },
   "source": [
    "## Setup"
   ]
  },
  {
   "cell_type": "code",
   "execution_count": 1,
   "id": "88f99249",
   "metadata": {
    "_cell_guid": "c4ad8242-ba4b-477e-a497-2bef3844c941",
    "_uuid": "050b2503-15fe-484a-9f70-37ab0612ea2a",
    "collapsed": false,
    "execution": {
     "iopub.execute_input": "2022-03-25T13:23:33.562749Z",
     "iopub.status.busy": "2022-03-25T13:23:33.561901Z",
     "iopub.status.idle": "2022-03-25T13:23:39.043954Z",
     "shell.execute_reply": "2022-03-25T13:23:39.042942Z",
     "shell.execute_reply.started": "2022-03-25T13:21:07.514436Z"
    },
    "id": "RAGZZ12NrH4a",
    "jupyter": {
     "outputs_hidden": false
    },
    "papermill": {
     "duration": 5.509485,
     "end_time": "2022-03-25T13:23:39.044126",
     "exception": false,
     "start_time": "2022-03-25T13:23:33.534641",
     "status": "completed"
    },
    "tags": []
   },
   "outputs": [],
   "source": [
    "import h5py\n",
    "import numpy as np\n",
    "import tensorflow as tf\n",
    "from tensorflow import keras\n",
    "from tensorflow.keras import layers\n",
    "import tensorflow_addons as tfa"
   ]
  },
  {
   "cell_type": "markdown",
   "id": "06fecb2c",
   "metadata": {
    "_cell_guid": "ed0ca94a-ba7c-4662-9009-7ede63afb5e3",
    "_uuid": "1d5777e9-2830-47d9-b569-48e46493b254",
    "id": "htJybyd-rH4c",
    "papermill": {
     "duration": 0.015807,
     "end_time": "2022-03-25T13:23:39.075471",
     "exception": false,
     "start_time": "2022-03-25T13:23:39.059664",
     "status": "completed"
    },
    "tags": []
   },
   "source": [
    "## Data Preparation"
   ]
  },
  {
   "cell_type": "code",
   "execution_count": 2,
   "id": "8b17eaf1",
   "metadata": {
    "execution": {
     "iopub.execute_input": "2022-03-25T13:23:39.140957Z",
     "iopub.status.busy": "2022-03-25T13:23:39.129358Z",
     "iopub.status.idle": "2022-03-25T13:23:58.312097Z",
     "shell.execute_reply": "2022-03-25T13:23:58.311371Z",
     "shell.execute_reply.started": "2022-03-25T13:21:12.328024Z"
    },
    "papermill": {
     "duration": 19.221284,
     "end_time": "2022-03-25T13:23:58.312258",
     "exception": false,
     "start_time": "2022-03-25T13:23:39.090974",
     "status": "completed"
    },
    "tags": []
   },
   "outputs": [
    {
     "name": "stdout",
     "output_type": "stream",
     "text": [
      "(249000, 32, 32, 2) (249000,) (249000, 32, 32, 2) (249000,)\n",
      "(498000, 32, 32, 2) (498000,)\n",
      "(498000, 32, 32) (498000,)\n",
      "(398400, 32, 32, 1) (99600, 32, 32, 1)\n",
      "(398400,) (99600,)\n"
     ]
    }
   ],
   "source": [
    "f1 = h5py.File('../input/electron-photon/download', 'r')\n",
    "f2 = h5py.File('../input/electron-photon/download_1', 'r')\n",
    "\n",
    "Electron_X = np.array(f1['X'])\n",
    "Electron_y = np.array(f1['y'])\n",
    "Parton_X = np.array(f2['X'])\n",
    "Parton_y = np.array(f2['y'])\n",
    "print(Electron_X.shape, Electron_y.shape, Parton_X.shape, Parton_y.shape)\n",
    "\n",
    "All_X = np.concatenate((Electron_X, Parton_X), axis=0)\n",
    "All_y = np.concatenate((Electron_y, Parton_y), axis=0)\n",
    "print(All_X.shape, All_y.shape)\n",
    "# Then, randomly shuffle the data and split data for train, val, test\n",
    "rand_seed = 12\n",
    "index = np.random.permutation(len(All_y))\n",
    "All_X, All_y = All_X[index][:,:,:,0], All_y[index]\n",
    "print(All_X.shape, All_y.shape)\n",
    "\n",
    "# clear cache to save memory\n",
    "del Electron_X, Electron_y, Parton_X, Parton_y\n",
    "\n",
    "from sklearn.model_selection import train_test_split\n",
    "X_train, X_test, y_train, y_test = train_test_split(All_X, All_y, test_size=0.2, random_state=12)\n",
    "X_train = X_train.reshape((-1,32,32,1))\n",
    "X_test = X_test.reshape((-1,32,32,1))\n",
    "print(X_train.shape, X_test.shape)\n",
    "print(y_train.shape, y_test.shape)\n",
    "\n",
    "del All_X, All_y"
   ]
  },
  {
   "cell_type": "markdown",
   "id": "22edbb15",
   "metadata": {
    "_cell_guid": "0541f825-50c8-46c9-b492-9ff890c43aa4",
    "_uuid": "0bf58f3e-8d52-46d9-a5f6-efc8d1894ad4",
    "id": "RFIHbiFrrH4d",
    "papermill": {
     "duration": 0.018906,
     "end_time": "2022-03-25T13:23:58.351900",
     "exception": false,
     "start_time": "2022-03-25T13:23:58.332994",
     "status": "completed"
    },
    "tags": []
   },
   "source": [
    "## Hyperparameters Configuration"
   ]
  },
  {
   "cell_type": "code",
   "execution_count": 3,
   "id": "e034d284",
   "metadata": {
    "_cell_guid": "3e51b6eb-ded2-43ac-b10b-4d9725607e06",
    "_uuid": "072f08c8-7901-4120-9697-2febebfb745d",
    "collapsed": false,
    "execution": {
     "iopub.execute_input": "2022-03-25T13:23:58.397969Z",
     "iopub.status.busy": "2022-03-25T13:23:58.397281Z",
     "iopub.status.idle": "2022-03-25T13:23:58.400719Z",
     "shell.execute_reply": "2022-03-25T13:23:58.400138Z",
     "shell.execute_reply.started": "2022-03-25T13:21:30.608423Z"
    },
    "id": "GQLmFADtrH4e",
    "jupyter": {
     "outputs_hidden": false
    },
    "papermill": {
     "duration": 0.029859,
     "end_time": "2022-03-25T13:23:58.400843",
     "exception": false,
     "start_time": "2022-03-25T13:23:58.370984",
     "status": "completed"
    },
    "tags": []
   },
   "outputs": [],
   "source": [
    "num_classes = 1\n",
    "input_shape = (32, 32, 1)\n",
    "learning_rate = 0.0015\n",
    "batch_size = 64\n",
    "num_epochs = 50\n",
    "image_size = 32 # size for resize image\n",
    "patch_size = 8  # size of the patches to be extract from the input images\n",
    "num_patches = (image_size // patch_size) ** 2\n",
    "projection_dim = 64\n",
    "num_heads = 4\n",
    "transformer_units = [\n",
    "    projection_dim * 2,\n",
    "    projection_dim,\n",
    "]  # Size of the transformer layers\n",
    "transformer_layers = 1\n",
    "mlp_head_units = [1024, 512]  # Size of the dense layers of the final classifier"
   ]
  },
  {
   "cell_type": "code",
   "execution_count": 4,
   "id": "a7aa2057",
   "metadata": {
    "_cell_guid": "6bdd5bf0-53dd-4d44-aaf3-459831a5cab4",
    "_uuid": "bb510796-eebf-4acd-8653-f603c4f0c767",
    "collapsed": false,
    "execution": {
     "iopub.execute_input": "2022-03-25T13:23:58.443735Z",
     "iopub.status.busy": "2022-03-25T13:23:58.442767Z",
     "iopub.status.idle": "2022-03-25T13:24:14.925974Z",
     "shell.execute_reply": "2022-03-25T13:24:14.926407Z",
     "shell.execute_reply.started": "2022-03-25T13:21:30.617358Z"
    },
    "id": "jhQlOlZtrH4h",
    "jupyter": {
     "outputs_hidden": false
    },
    "papermill": {
     "duration": 16.507698,
     "end_time": "2022-03-25T13:24:14.926611",
     "exception": false,
     "start_time": "2022-03-25T13:23:58.418913",
     "status": "completed"
    },
    "tags": []
   },
   "outputs": [
    {
     "name": "stderr",
     "output_type": "stream",
     "text": [
      "2022-03-25 13:23:58.526401: I tensorflow/stream_executor/cuda/cuda_gpu_executor.cc:937] successful NUMA node read from SysFS had negative value (-1), but there must be at least one NUMA node, so returning NUMA node zero\n",
      "2022-03-25 13:23:58.622269: I tensorflow/stream_executor/cuda/cuda_gpu_executor.cc:937] successful NUMA node read from SysFS had negative value (-1), but there must be at least one NUMA node, so returning NUMA node zero\n",
      "2022-03-25 13:23:58.623332: I tensorflow/stream_executor/cuda/cuda_gpu_executor.cc:937] successful NUMA node read from SysFS had negative value (-1), but there must be at least one NUMA node, so returning NUMA node zero\n",
      "2022-03-25 13:23:58.626663: I tensorflow/core/platform/cpu_feature_guard.cc:142] This TensorFlow binary is optimized with oneAPI Deep Neural Network Library (oneDNN) to use the following CPU instructions in performance-critical operations:  AVX2 AVX512F FMA\n",
      "To enable them in other operations, rebuild TensorFlow with the appropriate compiler flags.\n",
      "2022-03-25 13:23:58.627068: I tensorflow/stream_executor/cuda/cuda_gpu_executor.cc:937] successful NUMA node read from SysFS had negative value (-1), but there must be at least one NUMA node, so returning NUMA node zero\n",
      "2022-03-25 13:23:58.627896: I tensorflow/stream_executor/cuda/cuda_gpu_executor.cc:937] successful NUMA node read from SysFS had negative value (-1), but there must be at least one NUMA node, so returning NUMA node zero\n",
      "2022-03-25 13:23:58.628610: I tensorflow/stream_executor/cuda/cuda_gpu_executor.cc:937] successful NUMA node read from SysFS had negative value (-1), but there must be at least one NUMA node, so returning NUMA node zero\n",
      "2022-03-25 13:24:00.555412: I tensorflow/stream_executor/cuda/cuda_gpu_executor.cc:937] successful NUMA node read from SysFS had negative value (-1), but there must be at least one NUMA node, so returning NUMA node zero\n",
      "2022-03-25 13:24:00.556465: I tensorflow/stream_executor/cuda/cuda_gpu_executor.cc:937] successful NUMA node read from SysFS had negative value (-1), but there must be at least one NUMA node, so returning NUMA node zero\n",
      "2022-03-25 13:24:00.557235: I tensorflow/stream_executor/cuda/cuda_gpu_executor.cc:937] successful NUMA node read from SysFS had negative value (-1), but there must be at least one NUMA node, so returning NUMA node zero\n",
      "2022-03-25 13:24:00.558850: I tensorflow/core/common_runtime/gpu/gpu_device.cc:1510] Created device /job:localhost/replica:0/task:0/device:GPU:0 with 15403 MB memory:  -> device: 0, name: Tesla P100-PCIE-16GB, pci bus id: 0000:00:04.0, compute capability: 6.0\n",
      "2022-03-25 13:24:00.906725: W tensorflow/core/framework/cpu_allocator_impl.cc:80] Allocation of 1631846400 exceeds 10% of free system memory.\n",
      "2022-03-25 13:24:02.626296: W tensorflow/core/framework/cpu_allocator_impl.cc:80] Allocation of 1631846400 exceeds 10% of free system memory.\n",
      "2022-03-25 13:24:03.827638: I tensorflow/compiler/mlir/mlir_graph_optimization_pass.cc:185] None of the MLIR Optimization Passes are enabled (registered 2)\n"
     ]
    }
   ],
   "source": [
    "data_augmentation = keras.Sequential(\n",
    "    [\n",
    "        layers.Normalization(),\n",
    "        layers.Resizing(image_size, image_size),\n",
    "    ],\n",
    "    name=\"data_augmentation\",\n",
    ")\n",
    "data_augmentation.layers[0].adapt(X_train)"
   ]
  },
  {
   "cell_type": "markdown",
   "id": "78e933fa",
   "metadata": {
    "papermill": {
     "duration": 0.017489,
     "end_time": "2022-03-25T13:24:14.961924",
     "exception": false,
     "start_time": "2022-03-25T13:24:14.944435",
     "status": "completed"
    },
    "tags": []
   },
   "source": [
    "## ViT model from keras code example"
   ]
  },
  {
   "cell_type": "code",
   "execution_count": 5,
   "id": "5502b5c9",
   "metadata": {
    "_cell_guid": "23111176-652f-4be1-9426-036ec2c7d76b",
    "_uuid": "a361bc08-5358-45b8-b0d2-9643cec911a8",
    "collapsed": false,
    "execution": {
     "iopub.execute_input": "2022-03-25T13:24:15.009177Z",
     "iopub.status.busy": "2022-03-25T13:24:15.008248Z",
     "iopub.status.idle": "2022-03-25T13:24:15.010047Z",
     "shell.execute_reply": "2022-03-25T13:24:15.010411Z",
     "shell.execute_reply.started": "2022-03-25T13:21:32.828636Z"
    },
    "id": "BVWeHntkrH4k",
    "jupyter": {
     "outputs_hidden": false
    },
    "papermill": {
     "duration": 0.030338,
     "end_time": "2022-03-25T13:24:15.010556",
     "exception": false,
     "start_time": "2022-03-25T13:24:14.980218",
     "status": "completed"
    },
    "tags": []
   },
   "outputs": [],
   "source": [
    "class Patches(layers.Layer):\n",
    "    def __init__(self, patch_size):\n",
    "        super(Patches, self).__init__()\n",
    "        self.patch_size = patch_size\n",
    "\n",
    "    def call(self, images):\n",
    "        batch_size = tf.shape(images)[0]\n",
    "        patches = tf.image.extract_patches(\n",
    "            images=images,\n",
    "            sizes=[1, self.patch_size, self.patch_size, 1],\n",
    "            strides=[1, self.patch_size, self.patch_size, 1],\n",
    "            rates=[1, 1, 1, 1],\n",
    "            padding=\"VALID\",\n",
    "        )\n",
    "        patch_dims = patches.shape[-1]\n",
    "        patches = tf.reshape(patches, [batch_size, -1, patch_dims])\n",
    "        return patches\n",
    "\n",
    "class PatchEncoder(layers.Layer):\n",
    "    def __init__(self, num_patches, projection_dim):\n",
    "        super(PatchEncoder, self).__init__()\n",
    "        self.num_patches = num_patches\n",
    "        self.projection = layers.Dense(units=projection_dim)\n",
    "        self.position_embedding = layers.Embedding(\n",
    "            input_dim=num_patches, output_dim=projection_dim\n",
    "        )\n",
    "\n",
    "    def call(self, patch):\n",
    "        positions = tf.range(start=0, limit=self.num_patches, delta=1)\n",
    "        encoded = self.projection(patch) + self.position_embedding(positions)\n",
    "        return encoded"
   ]
  },
  {
   "cell_type": "code",
   "execution_count": 6,
   "id": "2914a8b5",
   "metadata": {
    "_cell_guid": "4258a773-ad03-494a-ae37-3cff430606c5",
    "_uuid": "6c68e5e4-7ab6-425a-be3e-02d4a347e2e1",
    "collapsed": false,
    "execution": {
     "iopub.execute_input": "2022-03-25T13:24:15.057122Z",
     "iopub.status.busy": "2022-03-25T13:24:15.056254Z",
     "iopub.status.idle": "2022-03-25T13:24:15.058067Z",
     "shell.execute_reply": "2022-03-25T13:24:15.058458Z",
     "shell.execute_reply.started": "2022-03-25T13:21:32.850937Z"
    },
    "id": "Fvd-aqq2rH4l",
    "jupyter": {
     "outputs_hidden": false
    },
    "papermill": {
     "duration": 0.030382,
     "end_time": "2022-03-25T13:24:15.058609",
     "exception": false,
     "start_time": "2022-03-25T13:24:15.028227",
     "status": "completed"
    },
    "tags": []
   },
   "outputs": [],
   "source": [
    "def mlp(x, hidden_units, dropout_rate):\n",
    "    for units in hidden_units:\n",
    "        x = layers.Dense(units, activation=tf.nn.gelu)(x)\n",
    "        x = layers.Dropout(dropout_rate)(x)\n",
    "    return x\n",
    "\n",
    "def create_vit_classifier():\n",
    "    inputs = layers.Input(shape=input_shape)\n",
    "    # Augment data.\n",
    "    augmented = data_augmentation(inputs)\n",
    "    # Create patches.\n",
    "    patches = Patches(patch_size)(augmented)\n",
    "    # Encode patches.\n",
    "    encoded_patches = PatchEncoder(num_patches, projection_dim)(patches)\n",
    "\n",
    "    # Create multiple layers of the Transformer block.\n",
    "    for _ in range(transformer_layers):\n",
    "        # Layer normalization 1.\n",
    "        x1 = layers.LayerNormalization(epsilon=1e-6)(encoded_patches)\n",
    "        # Create a multi-head attention layer.\n",
    "        attention_output = layers.MultiHeadAttention(\n",
    "            num_heads=num_heads, key_dim=projection_dim, dropout=0.1\n",
    "        )(x1, x1)\n",
    "        # Skip connection 1.\n",
    "        x2 = layers.Add()([attention_output, encoded_patches])\n",
    "        # Layer normalization 2.\n",
    "        x3 = layers.LayerNormalization(epsilon=1e-6)(x2)\n",
    "        # MLP.\n",
    "        x3 = mlp(x3, hidden_units=transformer_units, dropout_rate=0.1)\n",
    "        # Skip connection 2.\n",
    "        encoded_patches = layers.Add()([x3, x2])\n",
    "\n",
    "    # Create a [batch_size, projection_dim] tensor.\n",
    "    representation = layers.LayerNormalization(epsilon=1e-6)(encoded_patches)\n",
    "    representation = layers.Flatten()(representation)\n",
    "    representation = layers.Dropout(0.5)(representation)\n",
    "    # Add MLP.\n",
    "    features = mlp(representation, hidden_units=mlp_head_units, dropout_rate=0.5)\n",
    "    # Classify outputs.\n",
    "    logits = layers.Dense(num_classes)(features)\n",
    "    # Create the Keras model.\n",
    "    model = keras.Model(inputs=inputs, outputs=logits)\n",
    "    return model"
   ]
  },
  {
   "cell_type": "markdown",
   "id": "01db464b",
   "metadata": {
    "papermill": {
     "duration": 0.017161,
     "end_time": "2022-03-25T13:24:15.095223",
     "exception": false,
     "start_time": "2022-03-25T13:24:15.078062",
     "status": "completed"
    },
    "tags": []
   },
   "source": [
    "## Model Compiling and Training"
   ]
  },
  {
   "cell_type": "code",
   "execution_count": 7,
   "id": "cf8f9040",
   "metadata": {
    "_cell_guid": "6eba6b04-4d93-468f-bccd-f0e3db2a6cdb",
    "_uuid": "536ec8c1-0227-40c1-a7c0-0e551cb89815",
    "collapsed": false,
    "execution": {
     "iopub.execute_input": "2022-03-25T13:24:15.142207Z",
     "iopub.status.busy": "2022-03-25T13:24:15.134631Z",
     "iopub.status.idle": "2022-03-25T13:55:41.553634Z",
     "shell.execute_reply": "2022-03-25T13:55:41.552629Z",
     "shell.execute_reply.started": "2022-03-25T13:21:32.874047Z"
    },
    "id": "9OFY177KrH4m",
    "jupyter": {
     "outputs_hidden": false
    },
    "outputId": "1a85bb3e-f157-4d9c-997c-c874a106945a",
    "papermill": {
     "duration": 1886.441231,
     "end_time": "2022-03-25T13:55:41.553779",
     "exception": false,
     "start_time": "2022-03-25T13:24:15.112548",
     "status": "completed"
    },
    "tags": []
   },
   "outputs": [
    {
     "name": "stderr",
     "output_type": "stream",
     "text": [
      "2022-03-25 13:24:15.472032: W tensorflow/core/framework/cpu_allocator_impl.cc:80] Allocation of 1305477120 exceeds 10% of free system memory.\n",
      "2022-03-25 13:24:16.794315: W tensorflow/core/framework/cpu_allocator_impl.cc:80] Allocation of 1305477120 exceeds 10% of free system memory.\n"
     ]
    },
    {
     "name": "stdout",
     "output_type": "stream",
     "text": [
      "Epoch 1/50\n",
      "4980/4980 [==============================] - 39s 7ms/step - loss: 0.6379 - binary_accuracy: 0.6087 - auc: 0.6934 - val_loss: 0.5959 - val_binary_accuracy: 0.6479 - val_auc: 0.7509\n",
      "Epoch 2/50\n",
      "4980/4980 [==============================] - 36s 7ms/step - loss: 0.6060 - binary_accuracy: 0.6550 - auc: 0.7347 - val_loss: 0.5877 - val_binary_accuracy: 0.6665 - val_auc: 0.7586\n",
      "Epoch 3/50\n",
      "4980/4980 [==============================] - 36s 7ms/step - loss: 0.5954 - binary_accuracy: 0.6695 - auc: 0.7468 - val_loss: 0.5785 - val_binary_accuracy: 0.6770 - val_auc: 0.7667\n",
      "Epoch 4/50\n",
      "4980/4980 [==============================] - 36s 7ms/step - loss: 0.5885 - binary_accuracy: 0.6769 - auc: 0.7548 - val_loss: 0.5727 - val_binary_accuracy: 0.7033 - val_auc: 0.7742\n",
      "Epoch 5/50\n",
      "4980/4980 [==============================] - 37s 7ms/step - loss: 0.5853 - binary_accuracy: 0.6801 - auc: 0.7578 - val_loss: 0.5794 - val_binary_accuracy: 0.6966 - val_auc: 0.7758\n",
      "Epoch 6/50\n",
      "4980/4980 [==============================] - 37s 7ms/step - loss: 0.5818 - binary_accuracy: 0.6835 - auc: 0.7616 - val_loss: 0.5878 - val_binary_accuracy: 0.6879 - val_auc: 0.7708\n",
      "Epoch 7/50\n",
      "4980/4980 [==============================] - 37s 7ms/step - loss: 0.5795 - binary_accuracy: 0.6868 - auc: 0.7642 - val_loss: 0.5728 - val_binary_accuracy: 0.6752 - val_auc: 0.7753\n",
      "Epoch 8/50\n",
      "4980/4980 [==============================] - 36s 7ms/step - loss: 0.5768 - binary_accuracy: 0.6893 - auc: 0.7670 - val_loss: 0.5660 - val_binary_accuracy: 0.7004 - val_auc: 0.7786\n",
      "Epoch 9/50\n",
      "4980/4980 [==============================] - 38s 8ms/step - loss: 0.5769 - binary_accuracy: 0.6887 - auc: 0.7667 - val_loss: 0.5737 - val_binary_accuracy: 0.6889 - val_auc: 0.7746\n",
      "Epoch 10/50\n",
      "4980/4980 [==============================] - 37s 7ms/step - loss: 0.5740 - binary_accuracy: 0.6911 - auc: 0.7698 - val_loss: 0.5656 - val_binary_accuracy: 0.6853 - val_auc: 0.7794\n",
      "Epoch 11/50\n",
      "4980/4980 [==============================] - 38s 8ms/step - loss: 0.5738 - binary_accuracy: 0.6916 - auc: 0.7700 - val_loss: 0.5612 - val_binary_accuracy: 0.6997 - val_auc: 0.7820\n",
      "Epoch 12/50\n",
      "4980/4980 [==============================] - 39s 8ms/step - loss: 0.5763 - binary_accuracy: 0.6894 - auc: 0.7678 - val_loss: 0.5682 - val_binary_accuracy: 0.7052 - val_auc: 0.7788\n",
      "Epoch 13/50\n",
      "4980/4980 [==============================] - 38s 8ms/step - loss: 0.5714 - binary_accuracy: 0.6951 - auc: 0.7725 - val_loss: 0.5726 - val_binary_accuracy: 0.6936 - val_auc: 0.7765\n",
      "Epoch 14/50\n",
      "4980/4980 [==============================] - 39s 8ms/step - loss: 0.5715 - binary_accuracy: 0.6945 - auc: 0.7726 - val_loss: 0.5594 - val_binary_accuracy: 0.7036 - val_auc: 0.7844\n",
      "Epoch 15/50\n",
      "4980/4980 [==============================] - 38s 8ms/step - loss: 0.5697 - binary_accuracy: 0.6955 - auc: 0.7744 - val_loss: 0.5587 - val_binary_accuracy: 0.7047 - val_auc: 0.7856\n",
      "Epoch 16/50\n",
      "4980/4980 [==============================] - 38s 8ms/step - loss: 0.5698 - binary_accuracy: 0.6951 - auc: 0.7744 - val_loss: 0.5594 - val_binary_accuracy: 0.7087 - val_auc: 0.7857\n",
      "Epoch 17/50\n",
      "4980/4980 [==============================] - 38s 8ms/step - loss: 0.5698 - binary_accuracy: 0.6948 - auc: 0.7747 - val_loss: 0.5592 - val_binary_accuracy: 0.7159 - val_auc: 0.7857\n",
      "Epoch 18/50\n",
      "4980/4980 [==============================] - 38s 8ms/step - loss: 0.5698 - binary_accuracy: 0.6949 - auc: 0.7749 - val_loss: 0.5580 - val_binary_accuracy: 0.7089 - val_auc: 0.7861\n",
      "Epoch 19/50\n",
      "4980/4980 [==============================] - 38s 8ms/step - loss: 0.5674 - binary_accuracy: 0.6967 - auc: 0.7768 - val_loss: 0.5596 - val_binary_accuracy: 0.7101 - val_auc: 0.7868\n",
      "Epoch 20/50\n",
      "4980/4980 [==============================] - 39s 8ms/step - loss: 0.5685 - binary_accuracy: 0.6967 - auc: 0.7758 - val_loss: 0.5678 - val_binary_accuracy: 0.6947 - val_auc: 0.7849\n",
      "Epoch 21/50\n",
      "4980/4980 [==============================] - 39s 8ms/step - loss: 0.5666 - binary_accuracy: 0.6970 - auc: 0.7779 - val_loss: 0.5672 - val_binary_accuracy: 0.7028 - val_auc: 0.7852\n",
      "Epoch 22/50\n",
      "4980/4980 [==============================] - 36s 7ms/step - loss: 0.5670 - binary_accuracy: 0.6965 - auc: 0.7773 - val_loss: 0.5549 - val_binary_accuracy: 0.7037 - val_auc: 0.7903\n",
      "Epoch 23/50\n",
      "4980/4980 [==============================] - 38s 8ms/step - loss: 0.5675 - binary_accuracy: 0.6967 - auc: 0.7770 - val_loss: 0.5641 - val_binary_accuracy: 0.7089 - val_auc: 0.7840\n",
      "Epoch 24/50\n",
      "4980/4980 [==============================] - 35s 7ms/step - loss: 0.5656 - binary_accuracy: 0.6982 - auc: 0.7789 - val_loss: 0.5592 - val_binary_accuracy: 0.7094 - val_auc: 0.7880\n",
      "Epoch 25/50\n",
      "4980/4980 [==============================] - 39s 8ms/step - loss: 0.5663 - binary_accuracy: 0.6972 - auc: 0.7781 - val_loss: 0.5619 - val_binary_accuracy: 0.7014 - val_auc: 0.7875\n",
      "Epoch 26/50\n",
      "4980/4980 [==============================] - 36s 7ms/step - loss: 0.5659 - binary_accuracy: 0.6980 - auc: 0.7787 - val_loss: 0.5577 - val_binary_accuracy: 0.7074 - val_auc: 0.7877\n",
      "Epoch 27/50\n",
      "4980/4980 [==============================] - 40s 8ms/step - loss: 0.5657 - binary_accuracy: 0.6988 - auc: 0.7789 - val_loss: 0.5549 - val_binary_accuracy: 0.7128 - val_auc: 0.7892\n",
      "Epoch 28/50\n",
      "4980/4980 [==============================] - 36s 7ms/step - loss: 0.5667 - binary_accuracy: 0.6972 - auc: 0.7779 - val_loss: 0.5649 - val_binary_accuracy: 0.7035 - val_auc: 0.7872\n",
      "Epoch 29/50\n",
      "4980/4980 [==============================] - 39s 8ms/step - loss: 0.5663 - binary_accuracy: 0.6978 - auc: 0.7786 - val_loss: 0.5737 - val_binary_accuracy: 0.7131 - val_auc: 0.7786\n",
      "Epoch 30/50\n",
      "4980/4980 [==============================] - 36s 7ms/step - loss: 0.5666 - binary_accuracy: 0.6968 - auc: 0.7780 - val_loss: 0.5585 - val_binary_accuracy: 0.7084 - val_auc: 0.7891\n",
      "Epoch 31/50\n",
      "4980/4980 [==============================] - 39s 8ms/step - loss: 0.5644 - binary_accuracy: 0.6996 - auc: 0.7801 - val_loss: 0.5577 - val_binary_accuracy: 0.7190 - val_auc: 0.7893\n",
      "Epoch 32/50\n",
      "4980/4980 [==============================] - 36s 7ms/step - loss: 0.5673 - binary_accuracy: 0.6963 - auc: 0.7780 - val_loss: 0.5579 - val_binary_accuracy: 0.7149 - val_auc: 0.7877\n",
      "Epoch 33/50\n",
      "4980/4980 [==============================] - 40s 8ms/step - loss: 0.5653 - binary_accuracy: 0.6983 - auc: 0.7795 - val_loss: 0.5658 - val_binary_accuracy: 0.6832 - val_auc: 0.7870\n",
      "Epoch 34/50\n",
      "4980/4980 [==============================] - 35s 7ms/step - loss: 0.5691 - binary_accuracy: 0.6933 - auc: 0.7761 - val_loss: 0.5591 - val_binary_accuracy: 0.7085 - val_auc: 0.7868\n",
      "Epoch 35/50\n",
      "4980/4980 [==============================] - 41s 8ms/step - loss: 0.5635 - binary_accuracy: 0.6993 - auc: 0.7810 - val_loss: 0.5688 - val_binary_accuracy: 0.6898 - val_auc: 0.7821\n",
      "Epoch 36/50\n",
      "4980/4980 [==============================] - 36s 7ms/step - loss: 0.5663 - binary_accuracy: 0.6967 - auc: 0.7789 - val_loss: 0.5566 - val_binary_accuracy: 0.7157 - val_auc: 0.7892\n",
      "Epoch 37/50\n",
      "4980/4980 [==============================] - 40s 8ms/step - loss: 0.5649 - binary_accuracy: 0.6990 - auc: 0.7802 - val_loss: 0.5540 - val_binary_accuracy: 0.7220 - val_auc: 0.7930\n",
      "Epoch 38/50\n",
      "4980/4980 [==============================] - 35s 7ms/step - loss: 0.5700 - binary_accuracy: 0.6933 - auc: 0.7759 - val_loss: 0.5649 - val_binary_accuracy: 0.7165 - val_auc: 0.7852\n",
      "Epoch 39/50\n",
      "4980/4980 [==============================] - 40s 8ms/step - loss: 0.5633 - binary_accuracy: 0.7001 - auc: 0.7816 - val_loss: 0.5528 - val_binary_accuracy: 0.7140 - val_auc: 0.7917\n",
      "Epoch 40/50\n",
      "4980/4980 [==============================] - 35s 7ms/step - loss: 0.5726 - binary_accuracy: 0.6890 - auc: 0.7736 - val_loss: 0.5608 - val_binary_accuracy: 0.7188 - val_auc: 0.7871\n",
      "Epoch 41/50\n",
      "4980/4980 [==============================] - 35s 7ms/step - loss: 0.5639 - binary_accuracy: 0.6990 - auc: 0.7810 - val_loss: 0.5561 - val_binary_accuracy: 0.7067 - val_auc: 0.7885\n",
      "Epoch 42/50\n",
      "4980/4980 [==============================] - 38s 8ms/step - loss: 0.5656 - binary_accuracy: 0.6976 - auc: 0.7798 - val_loss: 0.5595 - val_binary_accuracy: 0.7198 - val_auc: 0.7894\n",
      "Epoch 43/50\n",
      "4980/4980 [==============================] - 36s 7ms/step - loss: 0.5666 - binary_accuracy: 0.6959 - auc: 0.7788 - val_loss: 0.5572 - val_binary_accuracy: 0.7238 - val_auc: 0.7923\n",
      "Epoch 44/50\n",
      "4980/4980 [==============================] - 35s 7ms/step - loss: 0.5632 - binary_accuracy: 0.6986 - auc: 0.7819 - val_loss: 0.5540 - val_binary_accuracy: 0.7146 - val_auc: 0.7917\n",
      "Epoch 45/50\n",
      "4980/4980 [==============================] - 35s 7ms/step - loss: 0.5709 - binary_accuracy: 0.6940 - auc: 0.7752 - val_loss: 0.5583 - val_binary_accuracy: 0.7161 - val_auc: 0.7890\n",
      "Epoch 46/50\n",
      "4980/4980 [==============================] - 41s 8ms/step - loss: 0.5667 - binary_accuracy: 0.6971 - auc: 0.7789 - val_loss: 0.5534 - val_binary_accuracy: 0.7146 - val_auc: 0.7914\n",
      "Epoch 47/50\n",
      "4980/4980 [==============================] - 36s 7ms/step - loss: 0.5616 - binary_accuracy: 0.7006 - auc: 0.7831 - val_loss: 0.5731 - val_binary_accuracy: 0.7065 - val_auc: 0.7844\n",
      "Epoch 48/50\n",
      "4980/4980 [==============================] - 37s 7ms/step - loss: 0.5666 - binary_accuracy: 0.6952 - auc: 0.7789 - val_loss: 0.5600 - val_binary_accuracy: 0.7183 - val_auc: 0.7911\n",
      "Epoch 49/50\n",
      "4980/4980 [==============================] - 35s 7ms/step - loss: 0.5703 - binary_accuracy: 0.6929 - auc: 0.7754 - val_loss: 0.5588 - val_binary_accuracy: 0.7120 - val_auc: 0.7859\n",
      "Epoch 50/50\n",
      "4980/4980 [==============================] - 42s 8ms/step - loss: 0.5692 - binary_accuracy: 0.6933 - auc: 0.7764 - val_loss: 0.5554 - val_binary_accuracy: 0.6997 - val_auc: 0.7919\n"
     ]
    }
   ],
   "source": [
    "model = create_vit_classifier()\n",
    "\n",
    "optimizer = tf.keras.optimizers.Adam(\n",
    "    learning_rate=learning_rate\n",
    ")\n",
    "model.compile(\n",
    "    optimizer=optimizer,\n",
    "    loss=keras.losses.BinaryCrossentropy(from_logits=True),\n",
    "    metrics=[\n",
    "        keras.metrics.BinaryAccuracy(name=\"binary_accuracy\", dtype=None, threshold=0.5),\n",
    "        keras.metrics.AUC(from_logits=True),\n",
    "    ],\n",
    ")\n",
    "\n",
    "checkpoint_filepath = \"saved_model\"\n",
    "checkpoint_callback = keras.callbacks.ModelCheckpoint(\n",
    "    checkpoint_filepath,\n",
    "    monitor=\"val_binary_accuracy\",\n",
    "    save_best_only=True,\n",
    "    save_weights_only=True,\n",
    ")\n",
    "\n",
    "history = model.fit(\n",
    "    x=X_train,\n",
    "    y=y_train,\n",
    "    batch_size=batch_size,\n",
    "    epochs=num_epochs,\n",
    "    validation_split=0.2,\n",
    "    callbacks=[checkpoint_callback],\n",
    "    shuffle=True,\n",
    ")"
   ]
  },
  {
   "cell_type": "code",
   "execution_count": 8,
   "id": "5024c174",
   "metadata": {
    "execution": {
     "iopub.execute_input": "2022-03-25T13:56:02.106503Z",
     "iopub.status.busy": "2022-03-25T13:56:02.105565Z",
     "iopub.status.idle": "2022-03-25T13:56:02.951294Z",
     "shell.execute_reply": "2022-03-25T13:56:02.952150Z",
     "shell.execute_reply.started": "2022-03-25T13:23:01.334200Z"
    },
    "papermill": {
     "duration": 11.34675,
     "end_time": "2022-03-25T13:56:02.952363",
     "exception": false,
     "start_time": "2022-03-25T13:55:51.605613",
     "status": "completed"
    },
    "tags": []
   },
   "outputs": [
    {
     "name": "stdout",
     "output_type": "stream",
     "text": [
      "__notebook__.ipynb  saved_model.data-00000-of-00001\r\n",
      "checkpoint\t    saved_model.index\r\n"
     ]
    }
   ],
   "source": [
    "!ls"
   ]
  },
  {
   "cell_type": "code",
   "execution_count": 9,
   "id": "6bc918b9",
   "metadata": {
    "execution": {
     "iopub.execute_input": "2022-03-25T13:56:23.125226Z",
     "iopub.status.busy": "2022-03-25T13:56:23.124363Z",
     "iopub.status.idle": "2022-03-25T13:56:41.498832Z",
     "shell.execute_reply": "2022-03-25T13:56:41.498050Z",
     "shell.execute_reply.started": "2022-03-25T13:23:01.335963Z"
    },
    "papermill": {
     "duration": 28.540695,
     "end_time": "2022-03-25T13:56:41.499015",
     "exception": false,
     "start_time": "2022-03-25T13:56:12.958320",
     "status": "completed"
    },
    "tags": []
   },
   "outputs": [
    {
     "name": "stdout",
     "output_type": "stream",
     "text": [
      "3113/3113 [==============================] - 18s 5ms/step - loss: 0.5560 - binary_accuracy: 0.7229 - auc: 0.7942\n",
      "Test accuracy: 0.7228614687919617\n",
      "Test AUC: 0.7942342162132263\n"
     ]
    }
   ],
   "source": [
    "model.load_weights(checkpoint_filepath)\n",
    "_, accuracy, auc = model.evaluate(X_test, y_test)\n",
    "print(f\"Test accuracy: {accuracy}\")\n",
    "print(f\"Test AUC: {auc}\")"
   ]
  },
  {
   "cell_type": "markdown",
   "id": "9652d2f6",
   "metadata": {
    "papermill": {
     "duration": 10.274903,
     "end_time": "2022-03-25T13:57:02.209043",
     "exception": false,
     "start_time": "2022-03-25T13:56:51.934140",
     "status": "completed"
    },
    "tags": []
   },
   "source": [
    "## Plot Training Process"
   ]
  },
  {
   "cell_type": "code",
   "execution_count": 10,
   "id": "eee0d847",
   "metadata": {
    "execution": {
     "iopub.execute_input": "2022-03-25T13:57:23.377997Z",
     "iopub.status.busy": "2022-03-25T13:57:23.377237Z",
     "iopub.status.idle": "2022-03-25T13:57:23.821594Z",
     "shell.execute_reply": "2022-03-25T13:57:23.822167Z",
     "shell.execute_reply.started": "2022-03-25T13:23:01.337786Z"
    },
    "papermill": {
     "duration": 10.811261,
     "end_time": "2022-03-25T13:57:23.822343",
     "exception": false,
     "start_time": "2022-03-25T13:57:13.011082",
     "status": "completed"
    },
    "tags": []
   },
   "outputs": [
    {
     "name": "stdout",
     "output_type": "stream",
     "text": [
      "dict_keys(['loss', 'binary_accuracy', 'auc', 'val_loss', 'val_binary_accuracy', 'val_auc'])\n"
     ]
    },
    {
     "data": {
      "image/png": "[encoded data removed]",
      "text/plain": [
       "<Figure size 432x288 with 1 Axes>"
      ]
     },
     "metadata": {
      "needs_background": "light"
     },
     "output_type": "display_data"
    },
    {
     "data": {
      "image/png": "[encoded data removed]",
      "text/plain": [
       "<Figure size 432x288 with 1 Axes>"
      ]
     },
     "metadata": {
      "needs_background": "light"
     },
     "output_type": "display_data"
    }
   ],
   "source": [
    "import matplotlib.pyplot as plt\n",
    "print(history.history.keys())\n",
    "# summarize history for accuracy\n",
    "plt.plot(history.history['binary_accuracy'])\n",
    "plt.plot(history.history['val_binary_accuracy'])\n",
    "plt.title('model accuracy')\n",
    "plt.ylabel('accuracy')\n",
    "plt.xlabel('epoch')\n",
    "plt.legend(['train', 'valid'], loc='upper left')\n",
    "plt.show()\n",
    "# summarize history for loss\n",
    "plt.plot(history.history['loss'])\n",
    "plt.plot(history.history['val_loss'])\n",
    "plt.title('model loss')\n",
    "plt.ylabel('loss')\n",
    "plt.xlabel('epoch')\n",
    "plt.legend(['train', 'valid'], loc='upper left')\n",
    "plt.show()"
   ]
  },
  {
   "cell_type": "code",
   "execution_count": 11,
   "id": "4996586d",
   "metadata": {
    "execution": {
     "iopub.execute_input": "2022-03-25T13:57:45.156247Z",
     "iopub.status.busy": "2022-03-25T13:57:45.147548Z",
     "iopub.status.idle": "2022-03-25T13:57:45.160917Z",
     "shell.execute_reply": "2022-03-25T13:57:45.161338Z",
     "shell.execute_reply.started": "2022-03-25T13:23:01.339738Z"
    },
    "papermill": {
     "duration": 10.987672,
     "end_time": "2022-03-25T13:57:45.161483",
     "exception": false,
     "start_time": "2022-03-25T13:57:34.173811",
     "status": "completed"
    },
    "tags": []
   },
   "outputs": [
    {
     "name": "stdout",
     "output_type": "stream",
     "text": [
      "Model: \"model\"\n",
      "__________________________________________________________________________________________________\n",
      "Layer (type)                    Output Shape         Param #     Connected to                     \n",
      "==================================================================================================\n",
      "input_1 (InputLayer)            [(None, 32, 32, 1)]  0                                            \n",
      "__________________________________________________________________________________________________\n",
      "data_augmentation (Sequential)  (None, 32, 32, 1)    3           input_1[0][0]                    \n",
      "__________________________________________________________________________________________________\n",
      "patches (Patches)               (None, None, 64)     0           data_augmentation[0][0]          \n",
      "__________________________________________________________________________________________________\n",
      "patch_encoder (PatchEncoder)    (None, 16, 64)       5184        patches[0][0]                    \n",
      "__________________________________________________________________________________________________\n",
      "layer_normalization (LayerNorma (None, 16, 64)       128         patch_encoder[0][0]              \n",
      "__________________________________________________________________________________________________\n",
      "multi_head_attention (MultiHead (None, 16, 64)       66368       layer_normalization[0][0]        \n",
      "                                                                 layer_normalization[0][0]        \n",
      "__________________________________________________________________________________________________\n",
      "add (Add)                       (None, 16, 64)       0           multi_head_attention[0][0]       \n",
      "                                                                 patch_encoder[0][0]              \n",
      "__________________________________________________________________________________________________\n",
      "layer_normalization_1 (LayerNor (None, 16, 64)       128         add[0][0]                        \n",
      "__________________________________________________________________________________________________\n",
      "dense_1 (Dense)                 (None, 16, 128)      8320        layer_normalization_1[0][0]      \n",
      "__________________________________________________________________________________________________\n",
      "dropout (Dropout)               (None, 16, 128)      0           dense_1[0][0]                    \n",
      "__________________________________________________________________________________________________\n",
      "dense_2 (Dense)                 (None, 16, 64)       8256        dropout[0][0]                    \n",
      "__________________________________________________________________________________________________\n",
      "dropout_1 (Dropout)             (None, 16, 64)       0           dense_2[0][0]                    \n",
      "__________________________________________________________________________________________________\n",
      "add_1 (Add)                     (None, 16, 64)       0           dropout_1[0][0]                  \n",
      "                                                                 add[0][0]                        \n",
      "__________________________________________________________________________________________________\n",
      "layer_normalization_2 (LayerNor (None, 16, 64)       128         add_1[0][0]                      \n",
      "__________________________________________________________________________________________________\n",
      "flatten (Flatten)               (None, 1024)         0           layer_normalization_2[0][0]      \n",
      "__________________________________________________________________________________________________\n",
      "dropout_2 (Dropout)             (None, 1024)         0           flatten[0][0]                    \n",
      "__________________________________________________________________________________________________\n",
      "dense_3 (Dense)                 (None, 1024)         1049600     dropout_2[0][0]                  \n",
      "__________________________________________________________________________________________________\n",
      "dropout_3 (Dropout)             (None, 1024)         0           dense_3[0][0]                    \n",
      "__________________________________________________________________________________________________\n",
      "dense_4 (Dense)                 (None, 512)          524800      dropout_3[0][0]                  \n",
      "__________________________________________________________________________________________________\n",
      "dropout_4 (Dropout)             (None, 512)          0           dense_4[0][0]                    \n",
      "__________________________________________________________________________________________________\n",
      "dense_5 (Dense)                 (None, 1)            513         dropout_4[0][0]                  \n",
      "==================================================================================================\n",
      "Total params: 1,663,428\n",
      "Trainable params: 1,663,425\n",
      "Non-trainable params: 3\n",
      "__________________________________________________________________________________________________\n"
     ]
    }
   ],
   "source": [
    "model.summary()"
   ]
  },
  {
   "cell_type": "code",
   "execution_count": null,
   "id": "4f00035f",
   "metadata": {
    "papermill": {
     "duration": 10.339961,
     "end_time": "2022-03-25T13:58:05.868711",
     "exception": false,
     "start_time": "2022-03-25T13:57:55.528750",
     "status": "completed"
    },
    "tags": []
   },
   "outputs": [],
   "source": []
  }
 ],
 "metadata": {
  "kernelspec": {
   "display_name": "Python 3",
   "language": "python",
   "name": "python3"
  },
  "language_info": {
   "codemirror_mode": {
    "name": "ipython",
    "version": 3
   },
   "file_extension": ".py",
   "mimetype": "text/x-python",
   "name": "python",
   "nbconvert_exporter": "python",
   "pygments_lexer": "ipython3",
   "version": "3.7.12"
  },
  "papermill": {
   "default_parameters": {},
   "duration": 2094.778335,
   "end_time": "2022-03-25T13:58:19.798395",
   "environment_variables": {},
   "exception": null,
   "input_path": "__notebook__.ipynb",
   "output_path": "__notebook__.ipynb",
   "parameters": {},
   "start_time": "2022-03-25T13:23:25.020060",
   "version": "2.3.3"
  }
 },
 "nbformat": 4,
 "nbformat_minor": 5
}
