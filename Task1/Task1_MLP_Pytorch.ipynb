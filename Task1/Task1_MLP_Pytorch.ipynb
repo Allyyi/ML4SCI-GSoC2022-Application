{
 "cells": [
  {
   "cell_type": "markdown",
   "id": "b672f290",
   "metadata": {
    "id": "T319goNuRhTT",
    "papermill": {
     "duration": 0.015017,
     "end_time": "2022-03-25T03:29:33.233324",
     "exception": false,
     "start_time": "2022-03-25T03:29:33.218307",
     "status": "completed"
    },
    "tags": []
   },
   "source": [
    "# Common Task1. Electron/photon classification\n",
    "\n",
    "Datasets: \n",
    "* https://cernbox.cern.ch/index.php/s/AtBT8y4MiQYFcgc (photons) \n",
    "\n",
    "* https://cernbox.cern.ch/index.php/s/FbXw3V4XNyYB3oA (electrons) \n",
    "\n",
    "Description: \n",
    "\n",
    "32x32 matrices (two channels - hit energy and time) for two classes of particles electrons and photons impinging on a calorimeter \n",
    "Please use a deep learning method of your choice to achieve the highest possible classification on this dataset (we ask that you do it both in Keras/Tensorflow and in PyTorch). Please provide a Jupyter notebook that shows your solution. The model you submit should have a ROC AUC score of at least 0.80. "
   ]
  },
  {
   "cell_type": "markdown",
   "id": "6d1c3594",
   "metadata": {
    "papermill": {
     "duration": 0.013339,
     "end_time": "2022-03-25T03:29:33.262123",
     "exception": false,
     "start_time": "2022-03-25T03:29:33.248784",
     "status": "completed"
    },
    "tags": []
   },
   "source": [
    "## Data Preparation"
   ]
  },
  {
   "cell_type": "code",
   "execution_count": 1,
   "id": "5dbb9a38",
   "metadata": {
    "execution": {
     "iopub.execute_input": "2022-03-25T03:29:33.294698Z",
     "iopub.status.busy": "2022-03-25T03:29:33.293213Z",
     "iopub.status.idle": "2022-03-25T03:29:47.384277Z",
     "shell.execute_reply": "2022-03-25T03:29:47.385143Z",
     "shell.execute_reply.started": "2022-03-25T02:50:29.838841Z"
    },
    "id": "dOGdzQVmUPvg",
    "outputId": "11673e7e-c086-4329-b851-50853b46e16f",
    "papermill": {
     "duration": 14.109831,
     "end_time": "2022-03-25T03:29:47.385468",
     "exception": false,
     "start_time": "2022-03-25T03:29:33.275637",
     "status": "completed"
    },
    "tags": []
   },
   "outputs": [
    {
     "name": "stdout",
     "output_type": "stream",
     "text": [
      "(249000, 32, 32, 2) (249000,) (249000, 32, 32, 2) (249000,)\n"
     ]
    }
   ],
   "source": [
    "# First, expolore the data format in hdf5 file\n",
    "import h5py\n",
    "import numpy as np\n",
    "f1 = h5py.File('../input/electron-photon/download', 'r')\n",
    "f2 = h5py.File('../input/electron-photon/download_1', 'r')\n",
    "\n",
    "Electron_X = np.array(f1['X'])\n",
    "Electron_y = np.array(f1['y'])\n",
    "Parton_X = np.array(f2['X'])\n",
    "Parton_y = np.array(f2['y'])\n",
    "print(Electron_X.shape, Electron_y.shape, Parton_X.shape, Parton_y.shape)"
   ]
  },
  {
   "cell_type": "code",
   "execution_count": 2,
   "id": "cde5fcc3",
   "metadata": {
    "execution": {
     "iopub.execute_input": "2022-03-25T03:29:47.444313Z",
     "iopub.status.busy": "2022-03-25T03:29:47.443567Z",
     "iopub.status.idle": "2022-03-25T03:29:51.154357Z",
     "shell.execute_reply": "2022-03-25T03:29:51.155366Z",
     "shell.execute_reply.started": "2022-03-25T02:50:43.711797Z"
    },
    "id": "JPq46VaOwCJW",
    "outputId": "8cde90c6-7ef9-4c60-c5b8-52130654561b",
    "papermill": {
     "duration": 3.747526,
     "end_time": "2022-03-25T03:29:51.155584",
     "exception": false,
     "start_time": "2022-03-25T03:29:47.408058",
     "status": "completed"
    },
    "tags": []
   },
   "outputs": [
    {
     "name": "stdout",
     "output_type": "stream",
     "text": [
      "(498000, 1024) (498000,)\n"
     ]
    }
   ],
   "source": [
    "All_X = np.concatenate((Electron_X, Parton_X), axis=0)\n",
    "All_y = np.concatenate((Electron_y, Parton_y), axis=0)\n",
    "# print(All_X.shape, All_y.shape)\n",
    "rand_seed = 12\n",
    "index = np.random.permutation(len(All_y))\n",
    "# here the dataset is flattened\n",
    "All_X, All_y = All_X[index][:,:,:,0].reshape((-1,32*32)), All_y[index]\n",
    "print(All_X.shape, All_y.shape)\n",
    "\n",
    "# clear cache to save memory\n",
    "del Electron_X, Electron_y, Parton_X, Parton_y"
   ]
  },
  {
   "cell_type": "code",
   "execution_count": 3,
   "id": "2f421d1c",
   "metadata": {
    "execution": {
     "iopub.execute_input": "2022-03-25T03:29:51.209909Z",
     "iopub.status.busy": "2022-03-25T03:29:51.208758Z",
     "iopub.status.idle": "2022-03-25T03:29:53.072222Z",
     "shell.execute_reply": "2022-03-25T03:29:53.072969Z",
     "shell.execute_reply.started": "2022-03-25T02:50:47.423897Z"
    },
    "id": "ig64Ak0H2XQ_",
    "outputId": "3cfd25b7-1abc-44f5-8673-0bb189973ebe",
    "papermill": {
     "duration": 1.893596,
     "end_time": "2022-03-25T03:29:53.073251",
     "exception": false,
     "start_time": "2022-03-25T03:29:51.179655",
     "status": "completed"
    },
    "tags": []
   },
   "outputs": [
    {
     "name": "stdout",
     "output_type": "stream",
     "text": [
      "(398400, 1024) (99600, 1024)\n",
      "(398400,) (99600,)\n"
     ]
    }
   ],
   "source": [
    "from sklearn.model_selection import train_test_split\n",
    "X_train, X_test, y_train, y_test = train_test_split(All_X, All_y, test_size=0.2, random_state=12)\n",
    "print(X_train.shape, X_test.shape)\n",
    "print(y_train.shape, y_test.shape)\n",
    "\n",
    "del All_X, All_y"
   ]
  },
  {
   "cell_type": "markdown",
   "id": "b755bd2a",
   "metadata": {
    "id": "eGqSrizkRzov",
    "papermill": {
     "duration": 0.015797,
     "end_time": "2022-03-25T03:29:53.105872",
     "exception": false,
     "start_time": "2022-03-25T03:29:53.090075",
     "status": "completed"
    },
    "tags": []
   },
   "source": [
    "## Version 1: Pytorch MLP"
   ]
  },
  {
   "cell_type": "markdown",
   "id": "bdffb189",
   "metadata": {
    "id": "Ymm5lT1rvJ85",
    "papermill": {
     "duration": 0.015321,
     "end_time": "2022-03-25T03:29:53.136642",
     "exception": false,
     "start_time": "2022-03-25T03:29:53.121321",
     "status": "completed"
    },
    "tags": []
   },
   "source": [
    "After reading paper https://arxiv.org/abs/1807.11916, I decided to start with a simple MLP. "
   ]
  },
  {
   "cell_type": "code",
   "execution_count": 4,
   "id": "f0560216",
   "metadata": {
    "execution": {
     "iopub.execute_input": "2022-03-25T03:29:53.171085Z",
     "iopub.status.busy": "2022-03-25T03:29:53.170408Z",
     "iopub.status.idle": "2022-03-25T03:29:54.726946Z",
     "shell.execute_reply": "2022-03-25T03:29:54.725885Z",
     "shell.execute_reply.started": "2022-03-25T02:50:49.290740Z"
    },
    "papermill": {
     "duration": 1.5755,
     "end_time": "2022-03-25T03:29:54.727083",
     "exception": false,
     "start_time": "2022-03-25T03:29:53.151583",
     "status": "completed"
    },
    "tags": []
   },
   "outputs": [],
   "source": [
    "import torch\n",
    "import torch.nn as nn\n",
    "import torch.nn.functional as F\n",
    "import torch.optim as optim\n",
    "from torch.utils.data import DataLoader, Dataset, TensorDataset\n",
    "import torchvision.transforms as transforms\n",
    "from tqdm import tqdm\n",
    "import random"
   ]
  },
  {
   "cell_type": "code",
   "execution_count": 5,
   "id": "f5567b63",
   "metadata": {
    "execution": {
     "iopub.execute_input": "2022-03-25T03:29:54.762631Z",
     "iopub.status.busy": "2022-03-25T03:29:54.761913Z",
     "iopub.status.idle": "2022-03-25T03:29:54.766783Z",
     "shell.execute_reply": "2022-03-25T03:29:54.766339Z",
     "shell.execute_reply.started": "2022-03-25T02:50:50.931788Z"
    },
    "papermill": {
     "duration": 0.024261,
     "end_time": "2022-03-25T03:29:54.766898",
     "exception": false,
     "start_time": "2022-03-25T03:29:54.742637",
     "status": "completed"
    },
    "tags": []
   },
   "outputs": [],
   "source": [
    "# set seed to be able to get reproducible results\n",
    "SEED = 293\n",
    "random.seed(SEED)\n",
    "np.random.seed(SEED)\n",
    "torch.manual_seed(SEED)\n",
    "torch.cuda.manual_seed(SEED)\n",
    "torch.backends.cudnn.deterministic=True"
   ]
  },
  {
   "cell_type": "code",
   "execution_count": 6,
   "id": "9c5a852c",
   "metadata": {
    "execution": {
     "iopub.execute_input": "2022-03-25T03:29:54.800993Z",
     "iopub.status.busy": "2022-03-25T03:29:54.799451Z",
     "iopub.status.idle": "2022-03-25T03:29:54.801642Z",
     "shell.execute_reply": "2022-03-25T03:29:54.802046Z",
     "shell.execute_reply.started": "2022-03-25T02:50:50.942015Z"
    },
    "papermill": {
     "duration": 0.020695,
     "end_time": "2022-03-25T03:29:54.802167",
     "exception": false,
     "start_time": "2022-03-25T03:29:54.781472",
     "status": "completed"
    },
    "tags": []
   },
   "outputs": [],
   "source": [
    "data_transform = transforms.Compose([transforms.ToTensor()])"
   ]
  },
  {
   "cell_type": "code",
   "execution_count": 7,
   "id": "ee18108c",
   "metadata": {
    "execution": {
     "iopub.execute_input": "2022-03-25T03:29:54.840284Z",
     "iopub.status.busy": "2022-03-25T03:29:54.839458Z",
     "iopub.status.idle": "2022-03-25T03:29:55.349409Z",
     "shell.execute_reply": "2022-03-25T03:29:55.348834Z",
     "shell.execute_reply.started": "2022-03-25T02:50:50.949764Z"
    },
    "papermill": {
     "duration": 0.532802,
     "end_time": "2022-03-25T03:29:55.349577",
     "exception": false,
     "start_time": "2022-03-25T03:29:54.816775",
     "status": "completed"
    },
    "tags": []
   },
   "outputs": [],
   "source": [
    "X_train, X_valid, y_train, y_valid = train_test_split(X_train, y_train, test_size=0.2, random_state=SEED)\n",
    "\n",
    "train_set = TensorDataset(torch.from_numpy(X_train), torch.from_numpy(y_train.reshape((-1,1))))\n",
    "valid_set = TensorDataset(torch.from_numpy(X_valid), torch.from_numpy(y_valid.reshape((-1,1))))\n",
    "test_set = TensorDataset(torch.from_numpy(X_test), torch.from_numpy(y_test.reshape((-1,1))))\n",
    "\n",
    "train_loader = DataLoader(train_set, batch_size=32, shuffle=True)\n",
    "valid_loader = DataLoader(valid_set, batch_size=32, shuffle=False)\n",
    "test_loader = DataLoader(test_set, batch_size=32, shuffle=False)"
   ]
  },
  {
   "cell_type": "code",
   "execution_count": 8,
   "id": "beed19db",
   "metadata": {
    "execution": {
     "iopub.execute_input": "2022-03-25T03:29:55.390620Z",
     "iopub.status.busy": "2022-03-25T03:29:55.389900Z",
     "iopub.status.idle": "2022-03-25T03:29:55.393169Z",
     "shell.execute_reply": "2022-03-25T03:29:55.393654Z",
     "shell.execute_reply.started": "2022-03-25T02:50:51.517811Z"
    },
    "papermill": {
     "duration": 0.026557,
     "end_time": "2022-03-25T03:29:55.393794",
     "exception": false,
     "start_time": "2022-03-25T03:29:55.367237",
     "status": "completed"
    },
    "tags": []
   },
   "outputs": [
    {
     "name": "stdout",
     "output_type": "stream",
     "text": [
      "318720 318720 79680 79680 99600 99600\n"
     ]
    }
   ],
   "source": [
    "print(len(X_train), train_set.__len__(),\n",
    "len(X_valid), valid_set.__len__(),\n",
    "len(X_test), test_set.__len__())"
   ]
  },
  {
   "cell_type": "code",
   "execution_count": 9,
   "id": "9562c4af",
   "metadata": {
    "execution": {
     "iopub.execute_input": "2022-03-25T03:29:55.485049Z",
     "iopub.status.busy": "2022-03-25T03:29:55.484081Z",
     "iopub.status.idle": "2022-03-25T03:29:55.486234Z",
     "shell.execute_reply": "2022-03-25T03:29:55.487087Z",
     "shell.execute_reply.started": "2022-03-25T02:50:51.528431Z"
    },
    "papermill": {
     "duration": 0.076001,
     "end_time": "2022-03-25T03:29:55.487235",
     "exception": false,
     "start_time": "2022-03-25T03:29:55.411234",
     "status": "completed"
    },
    "tags": []
   },
   "outputs": [],
   "source": [
    "device = \"cuda\" if torch.cuda.is_available() else \"cpu\"\n",
    "\n",
    "class MLP(nn.Module):\n",
    "    def __init__(self):\n",
    "        super(MLP, self).__init__()\n",
    "        self.linear_stack = nn.Sequential(\n",
    "            # layer 1\n",
    "            nn.Linear(32*32, 256),\n",
    "            nn.ReLU(),\n",
    "            nn.Dropout(0.5),\n",
    "            # layer 2\n",
    "            nn.Linear(256, 256),\n",
    "            nn.ReLU(),\n",
    "            nn.Dropout(0.5),\n",
    "            # layer 3\n",
    "            nn.Linear(256, 256),\n",
    "            nn.ReLU(),\n",
    "            nn.Dropout(0.5),\n",
    "            # layer 4\n",
    "            nn.Linear(256, 256),\n",
    "            nn.ReLU(),\n",
    "            nn.Dropout(0.5),\n",
    "            # output layer\n",
    "            nn.Linear(256,1),\n",
    "            nn.Sigmoid(),\n",
    "        )\n",
    "    def forward(self, x):\n",
    "        logits = self.linear_stack(x)\n",
    "        return logits"
   ]
  },
  {
   "cell_type": "code",
   "execution_count": 10,
   "id": "5bc5ac20",
   "metadata": {
    "execution": {
     "iopub.execute_input": "2022-03-25T03:29:55.537075Z",
     "iopub.status.busy": "2022-03-25T03:29:55.531393Z",
     "iopub.status.idle": "2022-03-25T03:46:39.586159Z",
     "shell.execute_reply": "2022-03-25T03:46:39.586769Z",
     "shell.execute_reply.started": "2022-03-25T02:50:51.606756Z"
    },
    "papermill": {
     "duration": 1004.080493,
     "end_time": "2022-03-25T03:46:39.586930",
     "exception": false,
     "start_time": "2022-03-25T03:29:55.506437",
     "status": "completed"
    },
    "tags": []
   },
   "outputs": [
    {
     "name": "stdout",
     "output_type": "stream",
     "text": [
      "MLP(\n",
      "  (linear_stack): Sequential(\n",
      "    (0): Linear(in_features=1024, out_features=256, bias=True)\n",
      "    (1): ReLU()\n",
      "    (2): Dropout(p=0.5, inplace=False)\n",
      "    (3): Linear(in_features=256, out_features=256, bias=True)\n",
      "    (4): ReLU()\n",
      "    (5): Dropout(p=0.5, inplace=False)\n",
      "    (6): Linear(in_features=256, out_features=256, bias=True)\n",
      "    (7): ReLU()\n",
      "    (8): Dropout(p=0.5, inplace=False)\n",
      "    (9): Linear(in_features=256, out_features=256, bias=True)\n",
      "    (10): ReLU()\n",
      "    (11): Dropout(p=0.5, inplace=False)\n",
      "    (12): Linear(in_features=256, out_features=1, bias=True)\n",
      "    (13): Sigmoid()\n",
      "  )\n",
      ")\n"
     ]
    },
    {
     "name": "stderr",
     "output_type": "stream",
     "text": [
      "100%|██████████| 9960/9960 [00:30<00:00, 324.34it/s]\n"
     ]
    },
    {
     "name": "stdout",
     "output_type": "stream",
     "text": [
      "Epoch: 1: \t Training Loss:0.621354\t Training Accuracy:0.664263 \t Validation Loss:0.590146 \t Validation Accuracy:0.693750\n"
     ]
    },
    {
     "name": "stderr",
     "output_type": "stream",
     "text": [
      "100%|██████████| 9960/9960 [00:30<00:00, 326.85it/s]\n"
     ]
    },
    {
     "name": "stdout",
     "output_type": "stream",
     "text": [
      "Epoch: 2: \t Training Loss:0.595032\t Training Accuracy:0.694741 \t Validation Loss:0.584734 \t Validation Accuracy:0.695833\n"
     ]
    },
    {
     "name": "stderr",
     "output_type": "stream",
     "text": [
      "100%|██████████| 9960/9960 [00:30<00:00, 327.35it/s]\n"
     ]
    },
    {
     "name": "stdout",
     "output_type": "stream",
     "text": [
      "Epoch: 3: \t Training Loss:0.587174\t Training Accuracy:0.701873 \t Validation Loss:0.572770 \t Validation Accuracy:0.715387\n"
     ]
    },
    {
     "name": "stderr",
     "output_type": "stream",
     "text": [
      "100%|██████████| 9960/9960 [00:30<00:00, 329.89it/s]\n"
     ]
    },
    {
     "name": "stdout",
     "output_type": "stream",
     "text": [
      "Epoch: 4: \t Training Loss:0.581737\t Training Accuracy:0.706699 \t Validation Loss:0.564184 \t Validation Accuracy:0.719315\n"
     ]
    },
    {
     "name": "stderr",
     "output_type": "stream",
     "text": [
      "100%|██████████| 9960/9960 [00:29<00:00, 332.04it/s]\n"
     ]
    },
    {
     "name": "stdout",
     "output_type": "stream",
     "text": [
      "Epoch: 5: \t Training Loss:0.577384\t Training Accuracy:0.710166 \t Validation Loss:0.560319 \t Validation Accuracy:0.723180\n"
     ]
    },
    {
     "name": "stderr",
     "output_type": "stream",
     "text": [
      "100%|██████████| 9960/9960 [00:30<00:00, 328.47it/s]\n"
     ]
    },
    {
     "name": "stdout",
     "output_type": "stream",
     "text": [
      "Epoch: 6: \t Training Loss:0.574728\t Training Accuracy:0.712312 \t Validation Loss:0.558255 \t Validation Accuracy:0.720896\n"
     ]
    },
    {
     "name": "stderr",
     "output_type": "stream",
     "text": [
      "100%|██████████| 9960/9960 [00:30<00:00, 329.98it/s]\n"
     ]
    },
    {
     "name": "stdout",
     "output_type": "stream",
     "text": [
      "Epoch: 7: \t Training Loss:0.571306\t Training Accuracy:0.714634 \t Validation Loss:0.556350 \t Validation Accuracy:0.722804\n"
     ]
    },
    {
     "name": "stderr",
     "output_type": "stream",
     "text": [
      "100%|██████████| 9960/9960 [00:30<00:00, 326.01it/s]\n"
     ]
    },
    {
     "name": "stdout",
     "output_type": "stream",
     "text": [
      "Epoch: 8: \t Training Loss:0.569160\t Training Accuracy:0.715995 \t Validation Loss:0.555656 \t Validation Accuracy:0.724184\n"
     ]
    },
    {
     "name": "stderr",
     "output_type": "stream",
     "text": [
      "100%|██████████| 9960/9960 [00:30<00:00, 322.00it/s]\n"
     ]
    },
    {
     "name": "stdout",
     "output_type": "stream",
     "text": [
      "Epoch: 9: \t Training Loss:0.567320\t Training Accuracy:0.717175 \t Validation Loss:0.555308 \t Validation Accuracy:0.723080\n"
     ]
    },
    {
     "name": "stderr",
     "output_type": "stream",
     "text": [
      "100%|██████████| 9960/9960 [00:31<00:00, 318.66it/s]\n"
     ]
    },
    {
     "name": "stdout",
     "output_type": "stream",
     "text": [
      "Epoch: 10: \t Training Loss:0.565396\t Training Accuracy:0.719290 \t Validation Loss:0.554259 \t Validation Accuracy:0.725904\n"
     ]
    },
    {
     "name": "stderr",
     "output_type": "stream",
     "text": [
      "100%|██████████| 9960/9960 [00:30<00:00, 325.34it/s]\n"
     ]
    },
    {
     "name": "stdout",
     "output_type": "stream",
     "text": [
      "Epoch: 11: \t Training Loss:0.564193\t Training Accuracy:0.719914 \t Validation Loss:0.552408 \t Validation Accuracy:0.725879\n"
     ]
    },
    {
     "name": "stderr",
     "output_type": "stream",
     "text": [
      "100%|██████████| 9960/9960 [00:30<00:00, 326.32it/s]\n"
     ]
    },
    {
     "name": "stdout",
     "output_type": "stream",
     "text": [
      "Epoch: 12: \t Training Loss:0.562809\t Training Accuracy:0.721125 \t Validation Loss:0.552194 \t Validation Accuracy:0.725653\n"
     ]
    },
    {
     "name": "stderr",
     "output_type": "stream",
     "text": [
      "100%|██████████| 9960/9960 [00:30<00:00, 326.24it/s]\n"
     ]
    },
    {
     "name": "stdout",
     "output_type": "stream",
     "text": [
      "Epoch: 13: \t Training Loss:0.561841\t Training Accuracy:0.721862 \t Validation Loss:0.551225 \t Validation Accuracy:0.727673\n"
     ]
    },
    {
     "name": "stderr",
     "output_type": "stream",
     "text": [
      "100%|██████████| 9960/9960 [00:30<00:00, 323.96it/s]\n"
     ]
    },
    {
     "name": "stdout",
     "output_type": "stream",
     "text": [
      "Epoch: 14: \t Training Loss:0.560032\t Training Accuracy:0.723466 \t Validation Loss:0.551765 \t Validation Accuracy:0.728263\n"
     ]
    },
    {
     "name": "stderr",
     "output_type": "stream",
     "text": [
      "100%|██████████| 9960/9960 [00:30<00:00, 323.64it/s]\n"
     ]
    },
    {
     "name": "stdout",
     "output_type": "stream",
     "text": [
      "Epoch: 15: \t Training Loss:0.559361\t Training Accuracy:0.723701 \t Validation Loss:0.550889 \t Validation Accuracy:0.728326\n"
     ]
    },
    {
     "name": "stderr",
     "output_type": "stream",
     "text": [
      "100%|██████████| 9960/9960 [00:30<00:00, 326.57it/s]\n"
     ]
    },
    {
     "name": "stdout",
     "output_type": "stream",
     "text": [
      "Epoch: 16: \t Training Loss:0.558869\t Training Accuracy:0.724357 \t Validation Loss:0.550944 \t Validation Accuracy:0.728665\n"
     ]
    },
    {
     "name": "stderr",
     "output_type": "stream",
     "text": [
      "100%|██████████| 9960/9960 [00:30<00:00, 324.89it/s]\n"
     ]
    },
    {
     "name": "stdout",
     "output_type": "stream",
     "text": [
      "Epoch: 17: \t Training Loss:0.557341\t Training Accuracy:0.725562 \t Validation Loss:0.549149 \t Validation Accuracy:0.728677\n"
     ]
    },
    {
     "name": "stderr",
     "output_type": "stream",
     "text": [
      "100%|██████████| 9960/9960 [00:31<00:00, 315.13it/s]\n"
     ]
    },
    {
     "name": "stdout",
     "output_type": "stream",
     "text": [
      "Epoch: 18: \t Training Loss:0.557059\t Training Accuracy:0.725132 \t Validation Loss:0.550954 \t Validation Accuracy:0.727171\n"
     ]
    },
    {
     "name": "stderr",
     "output_type": "stream",
     "text": [
      "100%|██████████| 9960/9960 [00:31<00:00, 319.18it/s]\n"
     ]
    },
    {
     "name": "stdout",
     "output_type": "stream",
     "text": [
      "Epoch: 19: \t Training Loss:0.555766\t Training Accuracy:0.726221 \t Validation Loss:0.548639 \t Validation Accuracy:0.729355\n"
     ]
    },
    {
     "name": "stderr",
     "output_type": "stream",
     "text": [
      "100%|██████████| 9960/9960 [00:31<00:00, 315.11it/s]\n"
     ]
    },
    {
     "name": "stdout",
     "output_type": "stream",
     "text": [
      "Epoch: 20: \t Training Loss:0.555133\t Training Accuracy:0.726923 \t Validation Loss:0.548382 \t Validation Accuracy:0.729694\n"
     ]
    },
    {
     "name": "stderr",
     "output_type": "stream",
     "text": [
      "100%|██████████| 9960/9960 [00:31<00:00, 321.05it/s]\n"
     ]
    },
    {
     "name": "stdout",
     "output_type": "stream",
     "text": [
      "Epoch: 21: \t Training Loss:0.554587\t Training Accuracy:0.727472 \t Validation Loss:0.549051 \t Validation Accuracy:0.729882\n"
     ]
    },
    {
     "name": "stderr",
     "output_type": "stream",
     "text": [
      "100%|██████████| 9960/9960 [00:31<00:00, 318.36it/s]\n"
     ]
    },
    {
     "name": "stdout",
     "output_type": "stream",
     "text": [
      "Epoch: 22: \t Training Loss:0.554264\t Training Accuracy:0.727526 \t Validation Loss:0.549519 \t Validation Accuracy:0.729493\n"
     ]
    },
    {
     "name": "stderr",
     "output_type": "stream",
     "text": [
      "100%|██████████| 9960/9960 [00:30<00:00, 322.56it/s]\n"
     ]
    },
    {
     "name": "stdout",
     "output_type": "stream",
     "text": [
      "Epoch: 23: \t Training Loss:0.553754\t Training Accuracy:0.727670 \t Validation Loss:0.547797 \t Validation Accuracy:0.729480\n"
     ]
    },
    {
     "name": "stderr",
     "output_type": "stream",
     "text": [
      "100%|██████████| 9960/9960 [00:31<00:00, 316.89it/s]\n"
     ]
    },
    {
     "name": "stdout",
     "output_type": "stream",
     "text": [
      "Epoch: 24: \t Training Loss:0.553232\t Training Accuracy:0.728345 \t Validation Loss:0.547205 \t Validation Accuracy:0.730309\n"
     ]
    },
    {
     "name": "stderr",
     "output_type": "stream",
     "text": [
      "100%|██████████| 9960/9960 [00:31<00:00, 316.69it/s]\n"
     ]
    },
    {
     "name": "stdout",
     "output_type": "stream",
     "text": [
      "Epoch: 25: \t Training Loss:0.552845\t Training Accuracy:0.728549 \t Validation Loss:0.547524 \t Validation Accuracy:0.729367\n"
     ]
    },
    {
     "name": "stderr",
     "output_type": "stream",
     "text": [
      "100%|██████████| 9960/9960 [00:31<00:00, 314.25it/s]\n"
     ]
    },
    {
     "name": "stdout",
     "output_type": "stream",
     "text": [
      "Epoch: 26: \t Training Loss:0.552113\t Training Accuracy:0.729063 \t Validation Loss:0.547888 \t Validation Accuracy:0.730083\n"
     ]
    },
    {
     "name": "stderr",
     "output_type": "stream",
     "text": [
      "100%|██████████| 9960/9960 [00:31<00:00, 315.06it/s]\n"
     ]
    },
    {
     "name": "stdout",
     "output_type": "stream",
     "text": [
      "Epoch: 27: \t Training Loss:0.552146\t Training Accuracy:0.729622 \t Validation Loss:0.547428 \t Validation Accuracy:0.730108\n"
     ]
    },
    {
     "name": "stderr",
     "output_type": "stream",
     "text": [
      "100%|██████████| 9960/9960 [00:32<00:00, 311.20it/s]\n"
     ]
    },
    {
     "name": "stdout",
     "output_type": "stream",
     "text": [
      "Epoch: 28: \t Training Loss:0.551858\t Training Accuracy:0.729239 \t Validation Loss:0.547503 \t Validation Accuracy:0.729882\n"
     ]
    },
    {
     "name": "stderr",
     "output_type": "stream",
     "text": [
      "100%|██████████| 9960/9960 [00:31<00:00, 316.78it/s]\n"
     ]
    },
    {
     "name": "stdout",
     "output_type": "stream",
     "text": [
      "Epoch: 29: \t Training Loss:0.551375\t Training Accuracy:0.730240 \t Validation Loss:0.547793 \t Validation Accuracy:0.730183\n"
     ]
    },
    {
     "name": "stderr",
     "output_type": "stream",
     "text": [
      "100%|██████████| 9960/9960 [00:31<00:00, 315.87it/s]\n"
     ]
    },
    {
     "name": "stdout",
     "output_type": "stream",
     "text": [
      "Epoch: 30: \t Training Loss:0.551613\t Training Accuracy:0.729954 \t Validation Loss:0.547539 \t Validation Accuracy:0.729719\n"
     ]
    }
   ],
   "source": [
    "model = MLP().to(device)\n",
    "print(model)\n",
    "criterion = nn.BCELoss()\n",
    "optimizer = torch.optim.Adam(model.parameters(), lr=0.001)\n",
    "scheduler = torch.optim.lr_scheduler.ExponentialLR(optimizer, gamma=0.9)\n",
    "epochs = 30\n",
    "min_valid_loss = np.inf\n",
    "\n",
    "for e in range(epochs):\n",
    "    train_loss = 0.0\n",
    "    train_correct = 0\n",
    "    model.train()\n",
    "    for data, labels in tqdm(train_loader):\n",
    "        # Transfer Data to GPU if available\n",
    "        if torch.cuda.is_available():\n",
    "            data, labels = data.cuda(), labels.cuda()\n",
    "         \n",
    "        # Clear the gradients\n",
    "        optimizer.zero_grad()\n",
    "        # Forward Pass\n",
    "        target = model(data)    \n",
    "        # Find the Loss\n",
    "        loss = criterion(target,labels)\n",
    "        # Calculate gradients\n",
    "        loss.backward()\n",
    "        # Update Weights\n",
    "        optimizer.step()\n",
    "        # Calculate Loss\n",
    "        train_loss += loss.item()\n",
    "        # Calculate Correct\n",
    "        train_correct += ((target>0.5).float() == labels).sum().item()\n",
    "    scheduler.step()\n",
    "    \n",
    "    valid_loss = 0.0\n",
    "    val_correct = 0\n",
    "    model.eval()     # Optional when not using Model Specific layer\n",
    "    for data, labels in valid_loader:\n",
    "        # Transfer Data to GPU if available\n",
    "        if torch.cuda.is_available():\n",
    "            data, labels = data.cuda(), labels.cuda()\n",
    "        \n",
    "        # Forward Pass\n",
    "        target = model(data)\n",
    "        # Find the Loss\n",
    "        loss = criterion(target,labels)\n",
    "        # Calculate Loss\n",
    "        valid_loss += loss.item()\n",
    "        # Calculate Right Prediction\n",
    "        val_correct += ((target>0.5).float() == labels).sum().item()\n",
    " \n",
    "    print('Epoch: {}: \\t Training Loss:{:.6f}\\t Training Accuracy:{:.6f} \\t Validation Loss:{:.6f} \\t Validation Accuracy:{:.6f}'.format(\n",
    "        e+1, train_loss / len(train_loader), train_correct*1.0 / len(X_train), valid_loss / len(valid_loader), val_correct*1.0 / len(X_valid)\n",
    "    ))\n",
    "     \n",
    "    if min_valid_loss > valid_loss:\n",
    "        min_valid_loss = valid_loss\n",
    "         \n",
    "        # Saving State Dict\n",
    "        torch.save(model.state_dict(), 'saved_model.pth')"
   ]
  },
  {
   "cell_type": "code",
   "execution_count": 11,
   "id": "b10d24f0",
   "metadata": {
    "execution": {
     "iopub.execute_input": "2022-03-25T03:46:45.196825Z",
     "iopub.status.busy": "2022-03-25T03:46:45.195842Z",
     "iopub.status.idle": "2022-03-25T03:46:45.198829Z",
     "shell.execute_reply": "2022-03-25T03:46:45.198264Z",
     "shell.execute_reply.started": "2022-03-25T03:06:37.148612Z"
    },
    "papermill": {
     "duration": 2.824573,
     "end_time": "2022-03-25T03:46:45.198956",
     "exception": false,
     "start_time": "2022-03-25T03:46:42.374383",
     "status": "completed"
    },
    "tags": []
   },
   "outputs": [],
   "source": [
    "import gc\n",
    "def test(model, test_loader):\n",
    "    total = 0\n",
    "    correct = 0\n",
    "    model.eval()     # Optional when not using Model Specific layer\n",
    "    y_pred = np.array([])\n",
    "    with torch.no_grad():\n",
    "        for data, labels in test_loader:\n",
    "            # Transfer Data to GPU if available\n",
    "            if torch.cuda.is_available():\n",
    "                data, labels = data.cuda(), labels.cuda()\n",
    "            # Forward Pass\n",
    "            target = model(data)\n",
    "            # Calculate Right Prediction\n",
    "            total += labels.size(0)\n",
    "            correct += ((target>0.5).float() == labels).sum().item()\n",
    "            # Save prediction\n",
    "            y_pred = np.append(y_pred, target.cpu().detach().numpy())\n",
    "    gc.collect()\n",
    "    print('Testing Accuracy:{:.6f}'.format(correct*1.0 / total))\n",
    "    return y_pred"
   ]
  },
  {
   "cell_type": "code",
   "execution_count": 12,
   "id": "a86cfe35",
   "metadata": {
    "execution": {
     "iopub.execute_input": "2022-03-25T03:46:51.733675Z",
     "iopub.status.busy": "2022-03-25T03:46:51.732731Z",
     "iopub.status.idle": "2022-03-25T03:46:54.563699Z",
     "shell.execute_reply": "2022-03-25T03:46:54.564250Z",
     "shell.execute_reply.started": "2022-03-25T03:06:37.159240Z"
    },
    "papermill": {
     "duration": 6.529086,
     "end_time": "2022-03-25T03:46:54.564447",
     "exception": false,
     "start_time": "2022-03-25T03:46:48.035361",
     "status": "completed"
    },
    "tags": []
   },
   "outputs": [
    {
     "name": "stdout",
     "output_type": "stream",
     "text": [
      "Testing Accuracy:0.726968\n"
     ]
    }
   ],
   "source": [
    "best_model = MLP()\n",
    "best_model.load_state_dict(torch.load(\"saved_model.pth\"))\n",
    "best_model.to(device)\n",
    "y_pred = test(best_model, test_loader)"
   ]
  },
  {
   "cell_type": "code",
   "execution_count": 13,
   "id": "ed947b04",
   "metadata": {
    "execution": {
     "iopub.execute_input": "2022-03-25T03:47:00.251271Z",
     "iopub.status.busy": "2022-03-25T03:47:00.250568Z",
     "iopub.status.idle": "2022-03-25T03:47:00.294873Z",
     "shell.execute_reply": "2022-03-25T03:47:00.295276Z",
     "shell.execute_reply.started": "2022-03-25T03:06:40.089651Z"
    },
    "papermill": {
     "duration": 2.86104,
     "end_time": "2022-03-25T03:47:00.295415",
     "exception": false,
     "start_time": "2022-03-25T03:46:57.434375",
     "status": "completed"
    },
    "tags": []
   },
   "outputs": [
    {
     "data": {
      "text/plain": [
       "0.7928410294176385"
      ]
     },
     "execution_count": 13,
     "metadata": {},
     "output_type": "execute_result"
    }
   ],
   "source": [
    "from sklearn.metrics import roc_auc_score\n",
    "roc_auc_score(y_test, y_pred)"
   ]
  }
 ],
 "metadata": {
  "kernelspec": {
   "display_name": "Python 3",
   "language": "python",
   "name": "python3"
  },
  "language_info": {
   "codemirror_mode": {
    "name": "ipython",
    "version": 3
   },
   "file_extension": ".py",
   "mimetype": "text/x-python",
   "name": "python",
   "nbconvert_exporter": "python",
   "pygments_lexer": "ipython3",
   "version": "3.7.12"
  },
  "papermill": {
   "default_parameters": {},
   "duration": 1060.3732,
   "end_time": "2022-03-25T03:47:05.547268",
   "environment_variables": {},
   "exception": null,
   "input_path": "__notebook__.ipynb",
   "output_path": "__notebook__.ipynb",
   "parameters": {},
   "start_time": "2022-03-25T03:29:25.174068",
   "version": "2.3.3"
  }
 },
 "nbformat": 4,
 "nbformat_minor": 5
}
